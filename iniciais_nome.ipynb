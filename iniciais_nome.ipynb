{
  "nbformat": 4,
  "nbformat_minor": 0,
  "metadata": {
    "colab": {
      "provenance": [],
      "authorship_tag": "ABX9TyNBMTjs9k/RALzP9hTtk+QQ",
      "include_colab_link": true
    },
    "kernelspec": {
      "name": "python3",
      "display_name": "Python 3"
    },
    "language_info": {
      "name": "python"
    }
  },
  "cells": [
    {
      "cell_type": "markdown",
      "metadata": {
        "id": "view-in-github",
        "colab_type": "text"
      },
      "source": [
        "<a href=\"https://colab.research.google.com/github/PedroC-dev/RelatorioAtividadesPDI/blob/main/iniciais_nome.ipynb\" target=\"_parent\"><img src=\"https://colab.research.google.com/assets/colab-badge.svg\" alt=\"Open In Colab\"/></a>"
      ]
    },
    {
      "cell_type": "code",
      "execution_count": 1,
      "metadata": {
        "colab": {
          "base_uri": "https://localhost:8080/",
          "height": 433
        },
        "id": "2RaUVTJ422AQ",
        "outputId": "82081f2d-2e8b-4365-8550-a5f3233055ed"
      },
      "outputs": [
        {
          "output_type": "stream",
          "name": "stdout",
          "text": [
            "(50, 70)\n"
          ]
        },
        {
          "output_type": "display_data",
          "data": {
            "text/plain": [
              "<Figure size 640x480 with 1 Axes>"
            ],
            "image/png": "[encoded data removed]"
          },
          "metadata": {}
        }
      ],
      "source": [
        "import numpy as np\n",
        "import matplotlib.pyplot as plt\n",
        "\n",
        "colunas = 70\n",
        "linhas = 50\n",
        "\n",
        "image_matrix = np.zeros([linhas, colunas])\n",
        "print(image_matrix.shape)\n",
        "\n",
        "#Letra P\n",
        "image_matrix[10:30, 10] = 255\n",
        "image_matrix[10,10:18] = 255\n",
        "image_matrix[20,10:18] = 255\n",
        "image_matrix[11:20,18] = 255\n",
        "\n",
        "#Letra C\n",
        "image_matrix[14:26, 22] = 255\n",
        "\n",
        "image_matrix[12, 24] = 255\n",
        "image_matrix[13, 23] = 255\n",
        "\n",
        "image_matrix[27, 24] = 255\n",
        "image_matrix[26, 23] = 255\n",
        "\n",
        "image_matrix[11, 25] = 255\n",
        "image_matrix[10, 26] = 255\n",
        "\n",
        "image_matrix[28, 25] = 255\n",
        "image_matrix[29, 26] = 255\n",
        "\n",
        "image_matrix[10, 26:32] = 255\n",
        "\n",
        "image_matrix[29, 26:32] = 255\n",
        "\n",
        "#Letra F\n",
        "image_matrix[10:30, 36] = 255\n",
        "image_matrix[10, 36:44] = 255\n",
        "image_matrix[20, 36:42] = 255\n",
        "\n",
        "\n",
        "plt.imshow(image_matrix, cmap='gray')\n",
        "plt.show()"
      ]
    }
  ]
}