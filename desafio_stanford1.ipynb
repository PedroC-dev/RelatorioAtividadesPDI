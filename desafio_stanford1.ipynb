{
  "nbformat": 4,
  "nbformat_minor": 0,
  "metadata": {
    "colab": {
      "provenance": [],
      "authorship_tag": "ABX9TyNrOk0pQmwBHLPc3/Z7kkyN",
      "include_colab_link": true
    },
    "kernelspec": {
      "name": "python3",
      "display_name": "Python 3"
    },
    "language_info": {
      "name": "python"
    }
  },
  "cells": [
    {
      "cell_type": "markdown",
      "metadata": {
        "id": "view-in-github",
        "colab_type": "text"
      },
      "source": [
        "<a href=\"https://colab.research.google.com/github/PedroC-dev/RelatorioAtividadesPDI/blob/main/desafio_stanford1.ipynb\" target=\"_parent\"><img src=\"https://colab.research.google.com/assets/colab-badge.svg\" alt=\"Open In Colab\"/></a>"
      ]
    },
    {
      "cell_type": "code",
      "execution_count": null,
      "metadata": {
        "id": "38s4WcgV69lb",
        "colab": {
          "base_uri": "https://localhost:8080/",
          "height": 1000
        },
        "outputId": "e685936c-d5d3-4431-ce1a-a8b12c96889b"
      },
      "outputs": [],
      "source": [
        "import cv2\n",
        "import numpy as np\n",
        "import matplotlib.pyplot as plt\n",
        "\n",
        "captura_video = cv2.VideoCapture('surveillance.mpg')\n",
        "imagem_fundo = cv2.imread('Background_Subtraction_background.png', cv2.IMREAD_GRAYSCALE)\n",
        "\n",
        "if not captura_video.isOpened():\n",
        "    print(\"Erro ao ler o arquivo de vídeo\")\n",
        "\n",
        "largura_quadro = int(captura_video.get(3))\n",
        "altura_quadro = int(captura_video.get(4))\n",
        "taxa_frame = 30\n",
        "tamanho_frame = (largura_quadro, altura_quadro)\n",
        "\n",
        "subtrator_fundo = cv2.createBackgroundSubtractorMOG2()\n",
        "\n",
        "fourcc = cv2.VideoWriter_fourcc(*'MJPG')\n",
        "saida_video = cv2.VideoWriter('saida.avi', fourcc, taxa_frame, tamanho_frame, 0)\n",
        "\n",
        "fundo_cinza = np.array(imagem_fundo)\n",
        "\n",
        "while True:\n",
        "    sucesso, quadro = captura_video.read()\n",
        "\n",
        "    if sucesso:\n",
        "        quadro_cinza = cv2.cvtColor(quadro, cv2.COLOR_BGR2GRAY)\n",
        "        diferenca_cinza = cv2.absdiff(quadro_cinza, fundo_cinza)\n",
        "        _, quadro_binario = cv2.threshold(diferenca_cinza, 30, 255, cv2.THRESH_BINARY)\n",
        "        saida_video.write(quadro_binario)\n",
        "\n",
        "        fig, ax = plt.subplots(nrows=1, ncols=2, figsize=(12, 6))\n",
        "        ax[0].imshow(quadro_cinza, 'gray')\n",
        "        ax[0].axis('off')\n",
        "        ax[1].imshow(quadro_binario, 'gray')\n",
        "        ax[1].axis('off')\n",
        "        plt.show()\n",
        "    else:\n",
        "        break\n",
        "\n",
        "captura_video.release()\n",
        "saida_video.release()\n",
        "cv2.destroyAllWindows()\n",
        "\n",
        "print(\"O vídeo foi salvo com sucesso\")\n"
      ]
    }
  ]
}